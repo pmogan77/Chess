{
 "cells": [
  {
   "cell_type": "code",
   "execution_count": 15,
   "metadata": {},
   "outputs": [],
   "source": [
    "import chess\n",
    "import pandas as pd\n",
    "from collections import defaultdict as dd\n",
    "import numpy as np\n",
    "import chess.engine\n",
    "from sklearn.preprocessing import OneHotEncoder\n",
    "engine = chess.engine.SimpleEngine.popen_uci(r\"C:\\Users\\prvn0\\Documents\\Chess\\stockfish-windows-x86-64-avx2\\stockfish\\stockfish-windows-x86-64-avx2.exe\")"
   ]
  },
  {
   "cell_type": "code",
   "execution_count": 16,
   "metadata": {},
   "outputs": [],
   "source": [
    "def clean(x):\n",
    "    board = chess.Board(fen=x[\"FEN\"])\n",
    "    x[\"Moves\"] = [chess.Move.from_uci(move) for move in x[\"Moves\"].split()]\n",
    "    board.push(x[\"Moves\"].pop(0))\n",
    "    x[\"FEN\"] = board.fen()\n",
    "    return x\n",
    "\n",
    "dataset = pd.read_csv(r\"C:\\Users\\prvn0\\Documents\\Chess\\lichess_db_puzzle.csv\")\n",
    "samples = dataset[:200].apply(lambda x:clean(x), axis=1)\n"
   ]
  },
  {
   "cell_type": "code",
   "execution_count": 17,
   "metadata": {},
   "outputs": [],
   "source": [
    "piece_values = {\n",
    "    chess.PAWN: 1,\n",
    "    chess.KNIGHT: 3,\n",
    "    chess.BISHOP: 3,\n",
    "    chess.ROOK: 5,\n",
    "    chess.QUEEN: 9, \n",
    "    chess.KING: 0\n",
    "}"
   ]
  },
  {
   "cell_type": "code",
   "execution_count": 18,
   "metadata": {},
   "outputs": [
    {
     "data": {
      "text/plain": [
       "<60x60 sparse matrix of type '<class 'numpy.float64'>'\n",
       "\twith 60 stored elements in Compressed Sparse Row format>"
      ]
     },
     "execution_count": 18,
     "metadata": {},
     "output_type": "execute_result"
    }
   ],
   "source": [
    "# one hot encode Themes\n",
    "themes=[]\n",
    "for theme_list in dataset['Themes']:\n",
    "    for word in theme_list.split():\n",
    "        themes.append(word)\n",
    "themes = np.unique(themes)\n",
    "encoder = OneHotEncoder()\n",
    "encoder.fit_transform(themes.reshape(-1, 1))\n"
   ]
  },
  {
   "cell_type": "code",
   "execution_count": 19,
   "metadata": {},
   "outputs": [],
   "source": [
    "def get_material_difference(board, my_color):\n",
    "    return sum(piece_values[piece.piece_type] for piece in board.piece_map().values() if piece.color == my_color) - sum(piece_values[piece.piece_type] for piece in board.piece_map().values() if piece.color != my_color)\n",
    "X={\"material_sacrifice\": [], \"puzzle_length\": [], \"Themes\":[], \"num_captured\": [], \"num_being_captured\": [], \"material_difference\": [], \"bad_checks\": [], \"bad_captures\": []}\n",
    "y=samples[\"Rating\"]\n",
    "for _, puzzle in samples.iterrows():\n",
    "    board = chess.Board(puzzle[\"FEN\"])\n",
    "    my_color = board.turn\n",
    "    captured = 0\n",
    "    being_captured = 0\n",
    "    total_sacrifice = 0\n",
    "    exchange_material_loss = 0\n",
    "    bad_checks = 0\n",
    "    bad_captures = 0\n",
    "    for move in puzzle[\"Moves\"]:\n",
    "        if board.is_capture(move):\n",
    "            captured_piece = board.piece_at(move.to_square)\n",
    "            if captured_piece.color == my_color:\n",
    "                exchange_material_loss += piece_values[captured_piece.piece_type]\n",
    "                being_captured += 1\n",
    "            else:\n",
    "                exchange_material_loss -= piece_values[captured_piece.piece_type]\n",
    "                captured += 1\n",
    "        elif exchange_material_loss:\n",
    "            # the capture series end and someone lost material\n",
    "            if exchange_material_loss > 0:\n",
    "                #if I lost more materials for win/advantage\n",
    "                total_sacrifice += exchange_material_loss\n",
    "\n",
    "            exchange_material_loss = 0\n",
    "\n",
    "        # check tempting bad moves\n",
    "        if board.turn == my_color:\n",
    "\n",
    "            bad_moves = list(board.legal_moves)\n",
    "            bad_moves.remove(move)\n",
    "            for bad_move in bad_moves:\n",
    "                if board.is_capture(bad_move):\n",
    "                    bad_captures += 1\n",
    "                    \n",
    "                if board.gives_check(bad_move):\n",
    "                    bad_checks += 1\n",
    "\n",
    "                    \n",
    "        \n",
    "        #explore next move\n",
    "        board.push(move)\n",
    "\n",
    "    if exchange_material_loss > 0:\n",
    "        total_sacrifice += exchange_material_loss\n",
    "        \n",
    "    X[\"material_sacrifice\"].append(total_sacrifice)\n",
    "    X[\"puzzle_length\"].append(len(puzzle[\"Moves\"]))\n",
    "    X[\"Themes\"].append(encoder.transform(np.array(puzzle[\"Themes\"].split()).reshape(-1, 1)).toarray())\n",
    "    X[\"num_captured\"].append(captured)\n",
    "    X[\"num_being_captured\"].append(being_captured)\n",
    "    X[\"material_difference\"].append(get_material_difference(board, my_color))\n",
    "    X[\"bad_checks\"] = bad_checks\n",
    "    X[\"bad_captures\"] = bad_captures"
   ]
  },
  {
   "cell_type": "code",
   "execution_count": 27,
   "metadata": {},
   "outputs": [
    {
     "data": {
      "text/html": [
       "<div>\n",
       "<style scoped>\n",
       "    .dataframe tbody tr th:only-of-type {\n",
       "        vertical-align: middle;\n",
       "    }\n",
       "\n",
       "    .dataframe tbody tr th {\n",
       "        vertical-align: top;\n",
       "    }\n",
       "\n",
       "    .dataframe thead th {\n",
       "        text-align: right;\n",
       "    }\n",
       "</style>\n",
       "<table border=\"1\" class=\"dataframe\">\n",
       "  <thead>\n",
       "    <tr style=\"text-align: right;\">\n",
       "      <th></th>\n",
       "      <th>material_sacrifice</th>\n",
       "      <th>puzzle_length</th>\n",
       "      <th>Themes</th>\n",
       "      <th>num_captured</th>\n",
       "      <th>num_being_captured</th>\n",
       "      <th>material_difference</th>\n",
       "      <th>bad_checks</th>\n",
       "      <th>bad_captures</th>\n",
       "    </tr>\n",
       "  </thead>\n",
       "  <tbody>\n",
       "    <tr>\n",
       "      <th>0</th>\n",
       "      <td>0</td>\n",
       "      <td>5</td>\n",
       "      <td>[[0.0, 0.0, 0.0, 0.0, 0.0, 0.0, 0.0, 0.0, 0.0,...</td>\n",
       "      <td>2</td>\n",
       "      <td>1</td>\n",
       "      <td>6</td>\n",
       "      <td>0</td>\n",
       "      <td>0</td>\n",
       "    </tr>\n",
       "    <tr>\n",
       "      <th>1</th>\n",
       "      <td>0</td>\n",
       "      <td>3</td>\n",
       "      <td>[[0.0, 1.0, 0.0, 0.0, 0.0, 0.0, 0.0, 0.0, 0.0,...</td>\n",
       "      <td>1</td>\n",
       "      <td>1</td>\n",
       "      <td>4</td>\n",
       "      <td>0</td>\n",
       "      <td>0</td>\n",
       "    </tr>\n",
       "    <tr>\n",
       "      <th>2</th>\n",
       "      <td>0</td>\n",
       "      <td>3</td>\n",
       "      <td>[[0.0, 1.0, 0.0, 0.0, 0.0, 0.0, 0.0, 0.0, 0.0,...</td>\n",
       "      <td>1</td>\n",
       "      <td>0</td>\n",
       "      <td>0</td>\n",
       "      <td>0</td>\n",
       "      <td>0</td>\n",
       "    </tr>\n",
       "    <tr>\n",
       "      <th>3</th>\n",
       "      <td>0</td>\n",
       "      <td>3</td>\n",
       "      <td>[[0.0, 1.0, 0.0, 0.0, 0.0, 0.0, 0.0, 0.0, 0.0,...</td>\n",
       "      <td>2</td>\n",
       "      <td>1</td>\n",
       "      <td>2</td>\n",
       "      <td>0</td>\n",
       "      <td>0</td>\n",
       "    </tr>\n",
       "    <tr>\n",
       "      <th>4</th>\n",
       "      <td>0</td>\n",
       "      <td>5</td>\n",
       "      <td>[[0.0, 0.0, 0.0, 0.0, 0.0, 0.0, 0.0, 0.0, 0.0,...</td>\n",
       "      <td>3</td>\n",
       "      <td>0</td>\n",
       "      <td>2</td>\n",
       "      <td>0</td>\n",
       "      <td>0</td>\n",
       "    </tr>\n",
       "    <tr>\n",
       "      <th>5</th>\n",
       "      <td>0</td>\n",
       "      <td>3</td>\n",
       "      <td>[[0.0, 0.0, 0.0, 0.0, 0.0, 0.0, 0.0, 0.0, 0.0,...</td>\n",
       "      <td>0</td>\n",
       "      <td>0</td>\n",
       "      <td>-4</td>\n",
       "      <td>0</td>\n",
       "      <td>0</td>\n",
       "    </tr>\n",
       "    <tr>\n",
       "      <th>6</th>\n",
       "      <td>0</td>\n",
       "      <td>3</td>\n",
       "      <td>[[0.0, 1.0, 0.0, 0.0, 0.0, 0.0, 0.0, 0.0, 0.0,...</td>\n",
       "      <td>2</td>\n",
       "      <td>1</td>\n",
       "      <td>3</td>\n",
       "      <td>0</td>\n",
       "      <td>0</td>\n",
       "    </tr>\n",
       "    <tr>\n",
       "      <th>7</th>\n",
       "      <td>0</td>\n",
       "      <td>3</td>\n",
       "      <td>[[0.0, 0.0, 0.0, 0.0, 0.0, 0.0, 0.0, 0.0, 0.0,...</td>\n",
       "      <td>1</td>\n",
       "      <td>0</td>\n",
       "      <td>-2</td>\n",
       "      <td>0</td>\n",
       "      <td>0</td>\n",
       "    </tr>\n",
       "    <tr>\n",
       "      <th>8</th>\n",
       "      <td>1</td>\n",
       "      <td>3</td>\n",
       "      <td>[[0.0, 0.0, 0.0, 0.0, 0.0, 0.0, 0.0, 0.0, 0.0,...</td>\n",
       "      <td>2</td>\n",
       "      <td>1</td>\n",
       "      <td>-2</td>\n",
       "      <td>0</td>\n",
       "      <td>0</td>\n",
       "    </tr>\n",
       "    <tr>\n",
       "      <th>9</th>\n",
       "      <td>0</td>\n",
       "      <td>5</td>\n",
       "      <td>[[0.0, 0.0, 0.0, 0.0, 0.0, 0.0, 0.0, 0.0, 0.0,...</td>\n",
       "      <td>1</td>\n",
       "      <td>0</td>\n",
       "      <td>3</td>\n",
       "      <td>0</td>\n",
       "      <td>0</td>\n",
       "    </tr>\n",
       "  </tbody>\n",
       "</table>\n",
       "</div>"
      ],
      "text/plain": [
       "   material_sacrifice  puzzle_length  \\\n",
       "0                   0              5   \n",
       "1                   0              3   \n",
       "2                   0              3   \n",
       "3                   0              3   \n",
       "4                   0              5   \n",
       "5                   0              3   \n",
       "6                   0              3   \n",
       "7                   0              3   \n",
       "8                   1              3   \n",
       "9                   0              5   \n",
       "\n",
       "                                              Themes  num_captured  \\\n",
       "0  [[0.0, 0.0, 0.0, 0.0, 0.0, 0.0, 0.0, 0.0, 0.0,...             2   \n",
       "1  [[0.0, 1.0, 0.0, 0.0, 0.0, 0.0, 0.0, 0.0, 0.0,...             1   \n",
       "2  [[0.0, 1.0, 0.0, 0.0, 0.0, 0.0, 0.0, 0.0, 0.0,...             1   \n",
       "3  [[0.0, 1.0, 0.0, 0.0, 0.0, 0.0, 0.0, 0.0, 0.0,...             2   \n",
       "4  [[0.0, 0.0, 0.0, 0.0, 0.0, 0.0, 0.0, 0.0, 0.0,...             3   \n",
       "5  [[0.0, 0.0, 0.0, 0.0, 0.0, 0.0, 0.0, 0.0, 0.0,...             0   \n",
       "6  [[0.0, 1.0, 0.0, 0.0, 0.0, 0.0, 0.0, 0.0, 0.0,...             2   \n",
       "7  [[0.0, 0.0, 0.0, 0.0, 0.0, 0.0, 0.0, 0.0, 0.0,...             1   \n",
       "8  [[0.0, 0.0, 0.0, 0.0, 0.0, 0.0, 0.0, 0.0, 0.0,...             2   \n",
       "9  [[0.0, 0.0, 0.0, 0.0, 0.0, 0.0, 0.0, 0.0, 0.0,...             1   \n",
       "\n",
       "   num_being_captured  material_difference  bad_checks  bad_captures  \n",
       "0                   1                    6           0             0  \n",
       "1                   1                    4           0             0  \n",
       "2                   0                    0           0             0  \n",
       "3                   1                    2           0             0  \n",
       "4                   0                    2           0             0  \n",
       "5                   0                   -4           0             0  \n",
       "6                   1                    3           0             0  \n",
       "7                   0                   -2           0             0  \n",
       "8                   1                   -2           0             0  \n",
       "9                   0                    3           0             0  "
      ]
     },
     "execution_count": 27,
     "metadata": {},
     "output_type": "execute_result"
    }
   ],
   "source": [
    "df = pd.DataFrame(X)\n",
    "df[:10]"
   ]
  },
  {
   "cell_type": "code",
   "execution_count": null,
   "metadata": {},
   "outputs": [
    {
     "name": "stdout",
     "output_type": "stream",
     "text": [
      "1223\n"
     ]
    },
    {
     "data": {
      "text/plain": [
       "3"
      ]
     },
     "execution_count": 9,
     "metadata": {},
     "output_type": "execute_result"
    }
   ],
   "source": [
    "k=122\n",
    "print(y[k])\n",
    "X[\"puzzle_length\"][k]"
   ]
  },
  {
   "cell_type": "code",
   "execution_count": null,
   "metadata": {},
   "outputs": [
    {
     "data": {
      "text/plain": [
       "PuzzleId                                                      007eS\n",
       "FEN                6k1/p4p2/1p5p/4r3/P3B3/1P2KP2/2P3PP/8 b - - 1 29\n",
       "Moves                                            [f7f5, g2g4, f5e4]\n",
       "Rating                                                         1223\n",
       "RatingDeviation                                                  74\n",
       "Popularity                                                       97\n",
       "NbPlays                                                        8936\n",
       "Themes                                      advantage endgame short\n",
       "GameUrl                             https://lichess.org/8qs8bafy#56\n",
       "OpeningTags                                                     NaN\n",
       "Name: 122, dtype: object"
      ]
     },
     "execution_count": 10,
     "metadata": {},
     "output_type": "execute_result"
    }
   ],
   "source": [
    "samples.iloc[k]"
   ]
  },
  {
   "cell_type": "code",
   "execution_count": null,
   "metadata": {},
   "outputs": [
    {
     "name": "stdout",
     "output_type": "stream",
     "text": [
      "PovWdl(Wdl(wins=1000, draws=0, losses=0), WHITE)\n"
     ]
    }
   ],
   "source": [
    "for k in (116,):\n",
    "    info = engine.analyse(chess.Board(samples.iloc[k][\"FEN\"]), chess.engine.Limit(time=0.01))\n",
    "    print(info[\"score\"].wdl())"
   ]
  },
  {
   "cell_type": "code",
   "execution_count": null,
   "metadata": {},
   "outputs": [
    {
     "ename": "ValueError",
     "evalue": "list.remove(x): x not in list",
     "output_type": "error",
     "traceback": [
      "\u001b[1;31m---------------------------------------------------------------------------\u001b[0m",
      "\u001b[1;31mValueError\u001b[0m                                Traceback (most recent call last)",
      "Cell \u001b[1;32mIn[12], line 3\u001b[0m\n\u001b[0;32m      1\u001b[0m move \u001b[38;5;241m=\u001b[39m chess\u001b[38;5;241m.\u001b[39mMove\u001b[38;5;241m.\u001b[39mfrom_uci(\u001b[38;5;124m\"\u001b[39m\u001b[38;5;124mf1g2\u001b[39m\u001b[38;5;124m\"\u001b[39m)\n\u001b[0;32m      2\u001b[0m bad_moves \u001b[38;5;241m=\u001b[39m \u001b[38;5;28mlist\u001b[39m(board\u001b[38;5;241m.\u001b[39mlegal_moves)\n\u001b[1;32m----> 3\u001b[0m \u001b[43mbad_moves\u001b[49m\u001b[38;5;241;43m.\u001b[39;49m\u001b[43mremove\u001b[49m\u001b[43m(\u001b[49m\u001b[43mmove\u001b[49m\u001b[43m)\u001b[49m\n\u001b[0;32m      4\u001b[0m \u001b[38;5;28mprint\u001b[39m(bad_moves)\n",
      "\u001b[1;31mValueError\u001b[0m: list.remove(x): x not in list"
     ]
    }
   ],
   "source": [
    "move = chess.Move.from_uci(\"f1g2\")\n",
    "bad_moves = list(board.legal_moves)\n",
    "bad_moves.remove(move)\n",
    "print(bad_moves)\n"
   ]
  },
  {
   "cell_type": "code",
   "execution_count": null,
   "metadata": {},
   "outputs": [],
   "source": [
    "type(board.legal_moves)"
   ]
  }
 ],
 "metadata": {
  "kernelspec": {
   "display_name": "Python 3",
   "language": "python",
   "name": "python3"
  },
  "language_info": {
   "codemirror_mode": {
    "name": "ipython",
    "version": 3
   },
   "file_extension": ".py",
   "mimetype": "text/x-python",
   "name": "python",
   "nbconvert_exporter": "python",
   "pygments_lexer": "ipython3",
   "version": "3.11.9"
  }
 },
 "nbformat": 4,
 "nbformat_minor": 2
}
